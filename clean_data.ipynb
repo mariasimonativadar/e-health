{
 "cells": [
  {
   "cell_type": "code",
   "execution_count": null,
   "id": "4271a943",
   "metadata": {},
   "outputs": [],
   "source": [
    "import pandas as pd\n",
    "import numpy as np\n",
    "from pathlib import Path"
   ]
  }
 ],
 "metadata": {
  "language_info": {
   "name": "python"
  }
 },
 "nbformat": 4,
 "nbformat_minor": 5
}
